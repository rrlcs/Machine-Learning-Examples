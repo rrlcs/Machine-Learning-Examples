{
  "nbformat": 4,
  "nbformat_minor": 0,
  "metadata": {
    "colab": {
      "name": "XNOR_NN.ipynb",
      "provenance": [],
      "collapsed_sections": [],
      "authorship_tag": "ABX9TyMiIpGjYD+TmhZeJxdf4t8T",
      "include_colab_link": true
    },
    "kernelspec": {
      "name": "python3",
      "display_name": "Python 3"
    }
  },
  "cells": [
    {
      "cell_type": "markdown",
      "metadata": {
        "id": "view-in-github",
        "colab_type": "text"
      },
      "source": [
        "<a href=\"https://colab.research.google.com/github/rrlcs/Machine-Learning-Examples/blob/master/XNOR_NN.ipynb\" target=\"_parent\"><img src=\"https://colab.research.google.com/assets/colab-badge.svg\" alt=\"Open In Colab\"/></a>"
      ]
    },
    {
      "cell_type": "code",
      "metadata": {
        "id": "ttOyuyPHa6vv",
        "colab_type": "code",
        "colab": {}
      },
      "source": [
        "import pandas as pd\n",
        "import numpy as np\n",
        "import math"
      ],
      "execution_count": 0,
      "outputs": []
    },
    {
      "cell_type": "code",
      "metadata": {
        "id": "nF1fhNSwcWl5",
        "colab_type": "code",
        "colab": {}
      },
      "source": [
        "X = pd.read_csv(\"inputs.txt\")\n",
        "theta = pd.read_csv(\"weights.txt\")"
      ],
      "execution_count": 0,
      "outputs": []
    },
    {
      "cell_type": "code",
      "metadata": {
        "id": "ntAzd9w1c1oP",
        "colab_type": "code",
        "colab": {}
      },
      "source": [
        "m = len(X)"
      ],
      "execution_count": 0,
      "outputs": []
    },
    {
      "cell_type": "code",
      "metadata": {
        "id": "qUVlZi_Pc2bR",
        "colab_type": "code",
        "colab": {}
      },
      "source": [
        "df_input = pd.DataFrame(X)\n",
        "df_theta = pd.DataFrame(theta)"
      ],
      "execution_count": 0,
      "outputs": []
    },
    {
      "cell_type": "code",
      "metadata": {
        "id": "ToAkEv6yfTyl",
        "colab_type": "code",
        "colab": {}
      },
      "source": [
        "df_input.insert(0, \"bias\", [1,1,1,1])"
      ],
      "execution_count": 0,
      "outputs": []
    },
    {
      "cell_type": "code",
      "metadata": {
        "id": "MTjUyztlffyn",
        "colab_type": "code",
        "colab": {
          "base_uri": "https://localhost:8080/",
          "height": 175
        },
        "outputId": "71f5b619-72da-4e91-c821-0e8ff7c16279"
      },
      "source": [
        "df_input"
      ],
      "execution_count": 146,
      "outputs": [
        {
          "output_type": "execute_result",
          "data": {
            "text/html": [
              "<div>\n",
              "<style scoped>\n",
              "    .dataframe tbody tr th:only-of-type {\n",
              "        vertical-align: middle;\n",
              "    }\n",
              "\n",
              "    .dataframe tbody tr th {\n",
              "        vertical-align: top;\n",
              "    }\n",
              "\n",
              "    .dataframe thead th {\n",
              "        text-align: right;\n",
              "    }\n",
              "</style>\n",
              "<table border=\"1\" class=\"dataframe\">\n",
              "  <thead>\n",
              "    <tr style=\"text-align: right;\">\n",
              "      <th></th>\n",
              "      <th>bias</th>\n",
              "      <th>x</th>\n",
              "      <th>y</th>\n",
              "    </tr>\n",
              "  </thead>\n",
              "  <tbody>\n",
              "    <tr>\n",
              "      <th>0</th>\n",
              "      <td>1</td>\n",
              "      <td>0</td>\n",
              "      <td>0</td>\n",
              "    </tr>\n",
              "    <tr>\n",
              "      <th>1</th>\n",
              "      <td>1</td>\n",
              "      <td>0</td>\n",
              "      <td>1</td>\n",
              "    </tr>\n",
              "    <tr>\n",
              "      <th>2</th>\n",
              "      <td>1</td>\n",
              "      <td>1</td>\n",
              "      <td>0</td>\n",
              "    </tr>\n",
              "    <tr>\n",
              "      <th>3</th>\n",
              "      <td>1</td>\n",
              "      <td>1</td>\n",
              "      <td>1</td>\n",
              "    </tr>\n",
              "  </tbody>\n",
              "</table>\n",
              "</div>"
            ],
            "text/plain": [
              "   bias  x  y\n",
              "0     1  0  0\n",
              "1     1  0  1\n",
              "2     1  1  0\n",
              "3     1  1  1"
            ]
          },
          "metadata": {
            "tags": []
          },
          "execution_count": 146
        }
      ]
    },
    {
      "cell_type": "code",
      "metadata": {
        "id": "OojQj27vfhv4",
        "colab_type": "code",
        "colab": {
          "base_uri": "https://localhost:8080/",
          "height": 143
        },
        "outputId": "c47c88a3-2767-49ce-ec64-85b21a7ab1c4"
      },
      "source": [
        "df_theta"
      ],
      "execution_count": 147,
      "outputs": [
        {
          "output_type": "execute_result",
          "data": {
            "text/html": [
              "<div>\n",
              "<style scoped>\n",
              "    .dataframe tbody tr th:only-of-type {\n",
              "        vertical-align: middle;\n",
              "    }\n",
              "\n",
              "    .dataframe tbody tr th {\n",
              "        vertical-align: top;\n",
              "    }\n",
              "\n",
              "    .dataframe thead th {\n",
              "        text-align: right;\n",
              "    }\n",
              "</style>\n",
              "<table border=\"1\" class=\"dataframe\">\n",
              "  <thead>\n",
              "    <tr style=\"text-align: right;\">\n",
              "      <th></th>\n",
              "      <th>a1</th>\n",
              "      <th>a2</th>\n",
              "      <th>a3</th>\n",
              "    </tr>\n",
              "  </thead>\n",
              "  <tbody>\n",
              "    <tr>\n",
              "      <th>0</th>\n",
              "      <td>-3000</td>\n",
              "      <td>1000</td>\n",
              "      <td>-1000</td>\n",
              "    </tr>\n",
              "    <tr>\n",
              "      <th>1</th>\n",
              "      <td>2000</td>\n",
              "      <td>-2000</td>\n",
              "      <td>2000</td>\n",
              "    </tr>\n",
              "    <tr>\n",
              "      <th>2</th>\n",
              "      <td>2000</td>\n",
              "      <td>-2000</td>\n",
              "      <td>2000</td>\n",
              "    </tr>\n",
              "  </tbody>\n",
              "</table>\n",
              "</div>"
            ],
            "text/plain": [
              "     a1    a2    a3\n",
              "0 -3000  1000 -1000\n",
              "1  2000 -2000  2000\n",
              "2  2000 -2000  2000"
            ]
          },
          "metadata": {
            "tags": []
          },
          "execution_count": 147
        }
      ]
    },
    {
      "cell_type": "code",
      "metadata": {
        "id": "s4cqv3U3g0Hp",
        "colab_type": "code",
        "colab": {}
      },
      "source": [
        "theta1 = df_theta['a1']\n",
        "theta2 = df_theta['a2']\n",
        "theta3 = df_theta['a3']"
      ],
      "execution_count": 0,
      "outputs": []
    },
    {
      "cell_type": "code",
      "metadata": {
        "id": "k64Uc8uSilB5",
        "colab_type": "code",
        "colab": {}
      },
      "source": [
        "def sigmoid(z):\n",
        "  return (1/(1+(np.exp(-z))))"
      ],
      "execution_count": 0,
      "outputs": []
    },
    {
      "cell_type": "code",
      "metadata": {
        "id": "2GN-fPLpkBUc",
        "colab_type": "code",
        "colab": {}
      },
      "source": [
        "theta1 = np.array(theta1)\n",
        "theta2 = np.array(theta2)\n",
        "theta3 = np.array(theta3)\n",
        "df_input = np.array(df_input)"
      ],
      "execution_count": 0,
      "outputs": []
    },
    {
      "cell_type": "code",
      "metadata": {
        "id": "BtydpTl6hLko",
        "colab_type": "code",
        "colab": {}
      },
      "source": [
        "z1 = np.dot(df_input, theta1)\n",
        "z1 = z1.reshape(4,1)\n",
        "z1 = z1 / 3000\n",
        "a1 = sigmoid(z1)\n",
        "a1 = np.round(a1)"
      ],
      "execution_count": 0,
      "outputs": []
    },
    {
      "cell_type": "code",
      "metadata": {
        "id": "C0LkQzRYhb8w",
        "colab_type": "code",
        "colab": {}
      },
      "source": [
        "z2 = np.dot(df_input, theta2)\n",
        "z2 = z2.reshape(4,1)\n",
        "z2 = z2 / 3000\n",
        "a2 = sigmoid(z2)\n",
        "a2 = np.round(a2)"
      ],
      "execution_count": 0,
      "outputs": []
    },
    {
      "cell_type": "code",
      "metadata": {
        "id": "fO_x7K6AyAsF",
        "colab_type": "code",
        "colab": {}
      },
      "source": [
        "A = np.column_stack(([1,1,1,1],a1,a2))"
      ],
      "execution_count": 0,
      "outputs": []
    },
    {
      "cell_type": "code",
      "metadata": {
        "id": "Q09k_8uHx3Pe",
        "colab_type": "code",
        "colab": {}
      },
      "source": [
        "z3 = np.dot(A, theta3)\n",
        "z3 = z3.reshape(4,1)\n",
        "z3 = z3 / 3000\n",
        "a3 = sigmoid(z3)\n",
        "a3 = np.round(a3)"
      ],
      "execution_count": 0,
      "outputs": []
    },
    {
      "cell_type": "code",
      "metadata": {
        "id": "1SM8q3Kgh5yG",
        "colab_type": "code",
        "colab": {}
      },
      "source": [
        "z3 = np.dot(df_input, theta3)\n",
        "z3 = z3.reshape(4,1)\n",
        "z3 = z3 / 3000\n",
        "a3 = sigmoid(z3)\n",
        "a3 = np.round(a3)"
      ],
      "execution_count": 0,
      "outputs": []
    },
    {
      "cell_type": "code",
      "metadata": {
        "id": "_3spXLyhs4Xz",
        "colab_type": "code",
        "colab": {
          "base_uri": "https://localhost:8080/",
          "height": 86
        },
        "outputId": "e28878f9-1e82-48bb-c966-9952425df83a"
      },
      "source": [
        "a3"
      ],
      "execution_count": 199,
      "outputs": [
        {
          "output_type": "execute_result",
          "data": {
            "text/plain": [
              "array([[1.],\n",
              "       [0.],\n",
              "       [0.],\n",
              "       [1.]])"
            ]
          },
          "metadata": {
            "tags": []
          },
          "execution_count": 199
        }
      ]
    }
  ]
}